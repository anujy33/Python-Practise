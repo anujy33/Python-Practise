{
 "cells": [
  {
   "cell_type": "code",
   "execution_count": 23,
   "metadata": {
    "collapsed": true
   },
   "outputs": [],
   "source": [
    "\n",
    "def display_board(board):\n",
    "    print '  |  |  '\n",
    "    print ''+board[1]+' | '+board[2]+ '|'+board[3]\n",
    "    print '--|--|--'\n",
    "    print '' +board[4]+' | '+board[5]+ '|'+board[6]\n",
    "    print '--|--|--'\n",
    "    print ''+board[7]+' | '+board[8]+ '|'+board[9]\n",
    "    print '  |  |  '"
   ]
  },
  {
   "cell_type": "code",
   "execution_count": 24,
   "metadata": {
    "collapsed": true
   },
   "outputs": [],
   "source": [
    "def player_input():\n",
    "    marker = ' '\n",
    "    while not (marker == 'O' or marker == 'X'):\n",
    "        marker = raw_input('Player1: Do you want to choose \"O\" or \"X\"').upper()\n",
    "        \n",
    "        if marker == 'X':\n",
    "            return ('X' , 'O')\n",
    "        else:\n",
    "            return ('O' , 'X')"
   ]
  },
  {
   "cell_type": "code",
   "execution_count": 25,
   "metadata": {
    "collapsed": true
   },
   "outputs": [],
   "source": [
    "def place_marker(board,marker,position):\n",
    "    board[position]=marker"
   ]
  },
  {
   "cell_type": "code",
   "execution_count": 26,
   "metadata": {
    "collapsed": true
   },
   "outputs": [],
   "source": [
    "def win_check(board,mark):\n",
    "    return ((board[1]==mark and board [2]==mark and board[3])or\n",
    "           (board[1]==mark and board[4]==mark and board[7]) or\n",
    "           (board[2]==mark and board[5]==mark and board[8]))"
   ]
  },
  {
   "cell_type": "code",
   "execution_count": 27,
   "metadata": {
    "collapsed": true
   },
   "outputs": [],
   "source": [
    "import random\n",
    "def choose_first():\n",
    "    if random.randint(0,1)==0:\n",
    "        return 'player1'\n",
    "    else:\n",
    "        return 'player2'"
   ]
  },
  {
   "cell_type": "code",
   "execution_count": 28,
   "metadata": {
    "collapsed": true
   },
   "outputs": [],
   "source": [
    "def space_check(board,position):\n",
    "    return board[position]== ' '"
   ]
  },
  {
   "cell_type": "code",
   "execution_count": 29,
   "metadata": {
    "collapsed": true
   },
   "outputs": [],
   "source": [
    "def full_board_check(board):\n",
    "    for i in range(1,10):\n",
    "        if space_check(board,i):\n",
    "            return False\n",
    "        else:\n",
    "            return True"
   ]
  },
  {
   "cell_type": "code",
   "execution_count": 41,
   "metadata": {},
   "outputs": [],
   "source": [
    "def player_choice(board):\n",
    "    position = raw_input('Choose your next position(1-9)')\n",
    "    return int(position)"
   ]
  },
  {
   "cell_type": "code",
   "execution_count": 31,
   "metadata": {
    "collapsed": true
   },
   "outputs": [],
   "source": [
    "def replay():\n",
    "    return raw_input('Do you want to play once again? ').lower().startswith('y')"
   ]
  },
  {
   "cell_type": "code",
   "execution_count": null,
   "metadata": {},
   "outputs": [
    {
     "name": "stdout",
     "output_type": "stream",
     "text": [
      "welcome to tic tak to game\n",
      "Player1: Do you want to choose \"O\" or \"X\"x\n",
      "player2 will go first\n",
      "  |  |  \n",
      "  |  | \n",
      "--|--|--\n",
      "  |  | \n",
      "--|--|--\n",
      "  |  | \n",
      "  |  |  \n",
      "Choose your next position(1-9)2\n",
      "  |  |  \n",
      "  | O| \n",
      "--|--|--\n",
      "  |  | \n",
      "--|--|--\n",
      "  |  | \n",
      "  |  |  \n",
      "The game is draw\n",
      "Do you want to play once again? y\n",
      "Player1: Do you want to choose \"O\" or \"X\"x\n",
      "player1 will go first\n",
      "  |  |  \n",
      "  |  | \n",
      "--|--|--\n",
      "  |  | \n",
      "--|--|--\n",
      "  |  | \n",
      "  |  |  \n",
      "Choose your next position(1-9)2\n",
      "  |  |  \n",
      "  | X| \n",
      "--|--|--\n",
      "  |  | \n",
      "--|--|--\n",
      "  |  | \n",
      "  |  |  \n",
      "The game is draw\n"
     ]
    }
   ],
   "source": [
    "print 'welcome to tic tak to game'\n",
    "while True:\n",
    "    my_board = [\" \"]*10\n",
    "    player1_marker,player2_marker = player_input()\n",
    "    turn = choose_first()\n",
    "    print turn + ' will go first'\n",
    "    game_on = True\n",
    "    \n",
    "    while game_on:\n",
    "        if turn == 'player1':\n",
    "            display_board(my_board)\n",
    "            position = player_choice(my_board)\n",
    "            place_marker(my_board,player1_marker,position)\n",
    "            \n",
    "            if win_check(my_board,player1_marker):\n",
    "                display_board(my_board)\n",
    "                print 'Congo! You have won'\n",
    "                game_n = False\n",
    "            \n",
    "            elif full_board_check(my_board):\n",
    "                    display_board(my_board)\n",
    "                    print 'The game is draw'\n",
    "                    break\n",
    "            else:\n",
    "                turn = 'player2'\n",
    "        else:\n",
    "            display_board(my_board)\n",
    "            position = player_choice(my_board)\n",
    "            place_marker(my_board,player2_marker,position)\n",
    "           \n",
    "            if win_check(my_board,player1_marker):\n",
    "                display_board(my_board)\n",
    "                print 'Congo! You have won'\n",
    "                game_n = False\n",
    "            elif full_board_check(my_board):\n",
    "                    display_board(my_board)\n",
    "                    print 'The game is draw'\n",
    "                    break\n",
    "            else:\n",
    "                turn = 'player1'\n",
    "    if not replay():\n",
    "        break"
   ]
  },
  {
   "cell_type": "code",
   "execution_count": null,
   "metadata": {
    "collapsed": true
   },
   "outputs": [],
   "source": []
  },
  {
   "cell_type": "code",
   "execution_count": null,
   "metadata": {
    "collapsed": true
   },
   "outputs": [],
   "source": []
  }
 ],
 "metadata": {
  "kernelspec": {
   "display_name": "Python 2",
   "language": "python",
   "name": "python2"
  },
  "language_info": {
   "codemirror_mode": {
    "name": "ipython",
    "version": 2
   },
   "file_extension": ".py",
   "mimetype": "text/x-python",
   "name": "python",
   "nbconvert_exporter": "python",
   "pygments_lexer": "ipython2",
   "version": "2.7.13"
  }
 },
 "nbformat": 4,
 "nbformat_minor": 2
}
